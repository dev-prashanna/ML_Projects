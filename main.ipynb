{
 "cells": [
  {
   "cell_type": "code",
   "execution_count": 8,
   "metadata": {},
   "outputs": [],
   "source": [
    "import torch\n",
    "import torch.nn as nn\n",
    "from torch.utils.data import DataLoader, Dataset\n",
    "import os\n",
    "from torchvision import datasets, transforms, models"
   ]
  },
  {
   "cell_type": "code",
   "execution_count": 9,
   "id": "dac53f0d",
   "metadata": {},
   "outputs": [],
   "source": [
    "train_transform=transforms.Compose([\n",
    "        transforms.Resize((224,224)),\n",
    "        transforms.RandomHorizontalFlip(),\n",
    "        transforms.ToTensor(),\n",
    "        transforms.Normalize(\n",
    "            [0.485, 0.456, 0.406],\n",
    "            [0.229, 0.224, 0.225]\n",
    "        )\n",
    "     ])\n",
    "\n",
    "valid_transform=transforms.Compose([\n",
    "    transforms.Resize((224,224)),\n",
    "    transforms.RandomHorizontalFlip(),\n",
    "    transforms.ToTensor(),\n",
    "    transforms.Normalize(\n",
    "         [0.485, 0.456, 0.406],\n",
    "            [0.229, 0.224, 0.225]\n",
    "    )\n",
    "])"
   ]
  },
  {
   "cell_type": "code",
   "execution_count": 6,
   "id": "248d947e",
   "metadata": {},
   "outputs": [],
   "source": [
    "train_dir = './train'\n",
    "test_dir = './test'\n",
    "\n",
    "train_data = datasets.ImageFolder(train_dir, transform=train_transform)\n",
    "valid_data = datasets.ImageFolder(test_dir, transform=valid_transform)\n",
    "\n",
    "\n",
    "train_loader = DataLoader(train_data, batch_size=32, shuffle=True)\n",
    "valid_loader = DataLoader(valid_data, batch_size=32, shuffle=False)\n",
    "\n"
   ]
  },
  {
   "cell_type": "code",
   "execution_count": 11,
   "id": "eec595d1",
   "metadata": {},
   "outputs": [],
   "source": [
    "from torchvision.datasets.folder import default_loader\n",
    "\n",
    "class TestDataset(Dataset):\n",
    "    def __init__(self, root_dir, transform=None):\n",
    "        self.file_paths = [os.path.join(root_dir, fname) \n",
    "                           for fname in os.listdir(root_dir) if fname.endswith('.jpg')]\n",
    "        self.transform = transform\n",
    "        self.loader = default_loader  # PIL image loader\n",
    "\n",
    "    def __len__(self):\n",
    "        return len(self.file_paths)\n",
    "\n",
    "    def __getitem__(self, idx):\n",
    "        path = self.file_paths[idx]\n",
    "        image = self.loader(path)\n",
    "        if self.transform:\n",
    "            image = self.transform(image)\n",
    "        return image, path  # return path if you want to track predictions\n",
    "\n",
    "test_dataset = TestDataset('./test', transform=valid_transform)\n",
    "test_loader = DataLoader(test_dataset, batch_size=32, shuffle=False)\n"
   ]
  },
  {
   "cell_type": "code",
   "execution_count": 15,
   "id": "49901582",
   "metadata": {},
   "outputs": [
    {
     "name": "stderr",
     "output_type": "stream",
     "text": [
      "c:\\Users\\Dell\\AppData\\Local\\Programs\\Python\\Python313\\Lib\\site-packages\\torchvision\\models\\_utils.py:208: UserWarning: The parameter 'pretrained' is deprecated since 0.13 and may be removed in the future, please use 'weights' instead.\n",
      "  warnings.warn(\n",
      "c:\\Users\\Dell\\AppData\\Local\\Programs\\Python\\Python313\\Lib\\site-packages\\torchvision\\models\\_utils.py:223: UserWarning: Arguments other than a weight enum or `None` for 'weights' are deprecated since 0.13 and may be removed in the future. The current behavior is equivalent to passing `weights=ResNet18_Weights.IMAGENET1K_V1`. You can also use `weights=ResNet18_Weights.DEFAULT` to get the most up-to-date weights.\n",
      "  warnings.warn(msg)\n"
     ]
    }
   ],
   "source": [
    "model=models.resnet18(pretrained=True)\n",
    "\n",
    "for param in model.parameters():\n",
    "    param.requires_grad= False\n",
    "\n",
    "num_classes=len(train_data.classes)\n",
    "model.fc=nn.Linear(model.fc.in_features, num_classes)\n",
    "\n",
    "device = torch.device(\"cuda\" if torch.cuda.is_available() else 'cpu')\n",
    "model = model.to(device)"
   ]
  },
  {
   "cell_type": "markdown",
   "id": "1df78b71",
   "metadata": {},
   "source": [
    "Training the model"
   ]
  },
  {
   "cell_type": "code",
   "execution_count": 16,
   "id": "5bddefa7",
   "metadata": {},
   "outputs": [],
   "source": [
    "import torch\n",
    "\n",
    "def train_model(model, train_loader, valid_loader, criterion, optimizer, device, epochs=10):\n",
    "    best_acc = 0.0\n",
    "    best_model_wts = None\n",
    "\n",
    "    for epoch in range(epochs):\n",
    "        print(f\"Epoch {epoch+1}/{epochs}\")\n",
    "\n",
    "        # --- Training phase ---\n",
    "        model.train()  # Set model to training mode (enables dropout, batchnorm updates)\n",
    "        running_loss = 0.0\n",
    "        running_corrects = 0\n",
    "        total_samples = 0\n",
    "\n",
    "        for inputs, labels in train_loader:\n",
    "            inputs = inputs.to(device)\n",
    "            labels = labels.to(device)\n",
    "\n",
    "            optimizer.zero_grad()        \n",
    "            outputs = model(inputs)      \n",
    "            loss = criterion(outputs, labels)  \n",
    "            loss.backward()             \n",
    "            optimizer.step()             \n",
    "\n",
    "            \n",
    "            running_loss += loss.item() * inputs.size(0) \n",
    "            _, preds = torch.max(outputs, 1)              \n",
    "            running_corrects += torch.sum(preds == labels.data).item()\n",
    "            total_samples += inputs.size(0)\n",
    "\n",
    "        epoch_loss = running_loss / total_samples\n",
    "        epoch_acc = running_corrects / total_samples\n",
    "        print(f\"Train Loss: {epoch_loss:.4f} Acc: {epoch_acc:.4f}\")\n",
    "\n",
    "        \n",
    "        model.eval()  \n",
    "        val_loss = 0.0\n",
    "        val_corrects = 0\n",
    "        val_samples = 0\n",
    "\n",
    "        with torch.no_grad():  \n",
    "            for inputs, labels in valid_loader:\n",
    "                inputs = inputs.to(device)\n",
    "                labels = labels.to(device)\n",
    "\n",
    "                outputs = model(inputs)\n",
    "                loss = criterion(outputs, labels)\n",
    "\n",
    "                val_loss += loss.item() * inputs.size(0)\n",
    "                _, preds = torch.max(outputs, 1)\n",
    "                val_corrects += torch.sum(preds == labels.data).item()\n",
    "                val_samples += inputs.size(0)\n",
    "\n",
    "        val_epoch_loss = val_loss / val_samples\n",
    "        val_epoch_acc = val_corrects / val_samples\n",
    "        print(f\"Val Loss: {val_epoch_loss:.4f} Acc: {val_epoch_acc:.4f}\")\n",
    "\n",
    "        # Save best model\n",
    "        if val_epoch_acc > best_acc:\n",
    "            best_acc = val_epoch_acc\n",
    "            best_model_wts = model.state_dict()\n",
    "\n",
    "    print(f\"Best Validation Accuracy: {best_acc:.4f}\")\n",
    "\n",
    "    # Load best weights before returning\n",
    "    model.load_state_dict(best_model_wts)\n",
    "    return model\n"
   ]
  },
  {
   "cell_type": "code",
   "execution_count": 17,
   "id": "d917ff02",
   "metadata": {},
   "outputs": [
    {
     "name": "stdout",
     "output_type": "stream",
     "text": [
      "Epoch 1/10\n",
      "Train Loss: 0.1267 Acc: 0.9517\n",
      "Val Loss: 0.0619 Acc: 0.9754\n",
      "Epoch 2/10\n",
      "Train Loss: 0.0845 Acc: 0.9675\n",
      "Val Loss: 0.0628 Acc: 0.9732\n",
      "Epoch 3/10\n",
      "Train Loss: 0.0797 Acc: 0.9684\n",
      "Val Loss: 0.0532 Acc: 0.9800\n",
      "Epoch 4/10\n",
      "Train Loss: 0.0791 Acc: 0.9700\n",
      "Val Loss: 0.0519 Acc: 0.9802\n",
      "Epoch 5/10\n",
      "Train Loss: 0.0735 Acc: 0.9714\n",
      "Val Loss: 0.0523 Acc: 0.9788\n",
      "Epoch 6/10\n",
      "Train Loss: 0.0772 Acc: 0.9702\n",
      "Val Loss: 0.0499 Acc: 0.9802\n",
      "Epoch 7/10\n",
      "Train Loss: 0.0723 Acc: 0.9726\n",
      "Val Loss: 0.0526 Acc: 0.9772\n",
      "Epoch 8/10\n",
      "Train Loss: 0.0730 Acc: 0.9719\n",
      "Val Loss: 0.0517 Acc: 0.9798\n",
      "Epoch 9/10\n",
      "Train Loss: 0.0736 Acc: 0.9716\n",
      "Val Loss: 0.0573 Acc: 0.9780\n",
      "Epoch 10/10\n",
      "Train Loss: 0.0703 Acc: 0.9732\n",
      "Val Loss: 0.0504 Acc: 0.9788\n",
      "Best Validation Accuracy: 0.9802\n"
     ]
    }
   ],
   "source": [
    "import torch.optim\n",
    "criterion=nn.CrossEntropyLoss()\n",
    "optimizer= torch.optim.AdamW(model.parameters(), lr=0.001)\n",
    "trained_model = train_model(model, train_loader, valid_loader, criterion, optimizer, device, epochs=10)\n"
   ]
  },
  {
   "cell_type": "code",
   "execution_count": 18,
   "id": "423dd710",
   "metadata": {},
   "outputs": [],
   "source": [
    "torch.save(model.state_dict(), \"dog_cat_classification.pth\")\n"
   ]
  },
  {
   "cell_type": "code",
   "execution_count": 19,
   "id": "6990a9d1",
   "metadata": {},
   "outputs": [
    {
     "data": {
      "text/plain": [
       "2"
      ]
     },
     "execution_count": 19,
     "metadata": {},
     "output_type": "execute_result"
    }
   ],
   "source": [
    "len(train_data.classes)"
   ]
  },
  {
   "cell_type": "code",
   "execution_count": 20,
   "id": "8c249738",
   "metadata": {},
   "outputs": [],
   "source": [
    "import json\n",
    "\n",
    "# Save the class names used during training\n",
    "with open(\"class_names.json\", \"w\") as f:\n",
    "    json.dump(train_data.classes, f)\n"
   ]
  },
  {
   "cell_type": "code",
   "execution_count": null,
   "id": "caf65090",
   "metadata": {},
   "outputs": [],
   "source": []
  }
 ],
 "metadata": {
  "kernelspec": {
   "display_name": "Python 3",
   "language": "python",
   "name": "python3"
  },
  "language_info": {
   "codemirror_mode": {
    "name": "ipython",
    "version": 3
   },
   "file_extension": ".py",
   "mimetype": "text/x-python",
   "name": "python",
   "nbconvert_exporter": "python",
   "pygments_lexer": "ipython3",
   "version": "3.13.1"
  }
 },
 "nbformat": 4,
 "nbformat_minor": 5
}
